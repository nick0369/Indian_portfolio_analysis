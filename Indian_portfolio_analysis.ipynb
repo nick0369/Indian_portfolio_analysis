{
 "cells": [
  {
   "cell_type": "code",
   "execution_count": 1,
   "id": "0e9182c2",
   "metadata": {},
   "outputs": [],
   "source": [
    "import pandas as pd\n",
    "import numpy as np\n",
    "import yfinance as yf\n",
    "from pandas_datareader import data as web"
   ]
  },
  {
   "cell_type": "code",
   "execution_count": 57,
   "id": "7e696b6d",
   "metadata": {},
   "outputs": [
    {
     "name": "stdout",
     "output_type": "stream",
     "text": [
      "indian_stock_list: ['RELIANCE.NS', 'SBIN.NS', 'INFY.NS', 'IRCTC.NS', 'TCS.NS', 'HINDUNILVR.NS']\n",
      "[*********************100%***********************]  6 of 6 completed\n",
      "data fields downloaded: {'IRCTC.NS', 'HINDUNILVR.NS', 'TCS.NS', 'INFY.NS', 'SBIN.NS', 'RELIANCE.NS'}\n"
     ]
    },
    {
     "data": {
      "text/plain": [
       "<bound method NDFrame.head of             HINDUNILVR.NS      INFY.NS    IRCTC.NS  RELIANCE.NS     SBIN.NS  \\\n",
       "Date                                                                          \n",
       "2020-01-01    1832.502930   690.363281  186.413559  1480.595825  326.298187   \n",
       "2020-01-02    1833.922363   688.348938  183.659882  1505.802124  331.029938   \n",
       "2020-01-03    1823.892090   698.936096  183.857269  1507.616577  325.566467   \n",
       "2020-01-06    1812.536743   692.237122  176.563385  1472.651367  311.224731   \n",
       "2020-01-07    1817.504517   681.978027  179.119675  1495.307617  310.639374   \n",
       "...                   ...          ...         ...          ...         ...   \n",
       "2022-09-15    2543.335205  1417.310913  724.349976  2562.699951  572.150024   \n",
       "2022-09-16    2511.300293  1362.163574  703.000000  2499.199951  561.799988   \n",
       "2022-09-19    2562.059814  1375.270264  692.000000  2502.449951  572.250000   \n",
       "2022-09-20    2566.331055  1373.539185  706.150024  2502.850098  574.049988   \n",
       "2022-09-21    2606.114258  1362.361328  700.349976  2509.750000  569.700012   \n",
       "\n",
       "                 TCS.NS  \n",
       "Date                     \n",
       "2020-01-01  2075.235352  \n",
       "2020-01-02  2065.708984  \n",
       "2020-01-03  2106.876953  \n",
       "2020-01-06  2106.685303  \n",
       "2020-01-07  2111.855225  \n",
       "...                 ...  \n",
       "2022-09-15  3096.336670  \n",
       "2022-09-16  3000.933350  \n",
       "2022-09-19  3020.981689  \n",
       "2022-09-20  3032.451904  \n",
       "2022-09-21  2993.452881  \n",
       "\n",
       "[678 rows x 6 columns]>"
      ]
     },
     "execution_count": 57,
     "metadata": {},
     "output_type": "execute_result"
    }
   ],
   "source": [
    "indian_stock_list=[\"RELIANCE.NS\",\"SBIN.NS\",\"INFY.NS\",\"IRCTC.NS\",\"TCS.NS\",\"HINDUNILVR.NS\"]\n",
    "print('indian_stock_list:', indian_stock_list)\n",
    "data_1 = yf.download(indian_stock_list, start=\"2020-01-01\", end=\"2022-09-22\")['Adj Close']\n",
    "print('data fields downloaded:', set(data_1.columns.get_level_values(0)))\n",
    "data_1.head"
   ]
  },
  {
   "cell_type": "code",
   "execution_count": 72,
   "id": "b7b4f4ea",
   "metadata": {
    "scrolled": true
   },
   "outputs": [
    {
     "data": {
      "text/html": [
       "<div>\n",
       "<style scoped>\n",
       "    .dataframe tbody tr th:only-of-type {\n",
       "        vertical-align: middle;\n",
       "    }\n",
       "\n",
       "    .dataframe tbody tr th {\n",
       "        vertical-align: top;\n",
       "    }\n",
       "\n",
       "    .dataframe thead th {\n",
       "        text-align: right;\n",
       "    }\n",
       "</style>\n",
       "<table border=\"1\" class=\"dataframe\">\n",
       "  <thead>\n",
       "    <tr style=\"text-align: right;\">\n",
       "      <th></th>\n",
       "      <th>HINDUNILVR.NS</th>\n",
       "      <th>INFY.NS</th>\n",
       "      <th>IRCTC.NS</th>\n",
       "      <th>RELIANCE.NS</th>\n",
       "      <th>SBIN.NS</th>\n",
       "      <th>TCS.NS</th>\n",
       "    </tr>\n",
       "    <tr>\n",
       "      <th>Date</th>\n",
       "      <th></th>\n",
       "      <th></th>\n",
       "      <th></th>\n",
       "      <th></th>\n",
       "      <th></th>\n",
       "      <th></th>\n",
       "    </tr>\n",
       "  </thead>\n",
       "  <tbody>\n",
       "    <tr>\n",
       "      <th>2020-01-01</th>\n",
       "      <td>1832.502930</td>\n",
       "      <td>690.363281</td>\n",
       "      <td>186.413559</td>\n",
       "      <td>1480.595825</td>\n",
       "      <td>326.298187</td>\n",
       "      <td>2075.235352</td>\n",
       "    </tr>\n",
       "    <tr>\n",
       "      <th>2020-01-02</th>\n",
       "      <td>1833.922363</td>\n",
       "      <td>688.348938</td>\n",
       "      <td>183.659882</td>\n",
       "      <td>1505.802124</td>\n",
       "      <td>331.029938</td>\n",
       "      <td>2065.708984</td>\n",
       "    </tr>\n",
       "    <tr>\n",
       "      <th>2020-01-03</th>\n",
       "      <td>1823.892090</td>\n",
       "      <td>698.936096</td>\n",
       "      <td>183.857269</td>\n",
       "      <td>1507.616577</td>\n",
       "      <td>325.566467</td>\n",
       "      <td>2106.876953</td>\n",
       "    </tr>\n",
       "  </tbody>\n",
       "</table>\n",
       "</div>"
      ],
      "text/plain": [
       "            HINDUNILVR.NS     INFY.NS    IRCTC.NS  RELIANCE.NS     SBIN.NS  \\\n",
       "Date                                                                         \n",
       "2020-01-01    1832.502930  690.363281  186.413559  1480.595825  326.298187   \n",
       "2020-01-02    1833.922363  688.348938  183.659882  1505.802124  331.029938   \n",
       "2020-01-03    1823.892090  698.936096  183.857269  1507.616577  325.566467   \n",
       "\n",
       "                 TCS.NS  \n",
       "Date                     \n",
       "2020-01-01  2075.235352  \n",
       "2020-01-02  2065.708984  \n",
       "2020-01-03  2106.876953  "
      ]
     },
     "execution_count": 72,
     "metadata": {},
     "output_type": "execute_result"
    }
   ],
   "source": [
    "data_1.head(3)"
   ]
  },
  {
   "cell_type": "code",
   "execution_count": 71,
   "id": "faaae45b",
   "metadata": {},
   "outputs": [
    {
     "data": {
      "text/html": [
       "<div>\n",
       "<style scoped>\n",
       "    .dataframe tbody tr th:only-of-type {\n",
       "        vertical-align: middle;\n",
       "    }\n",
       "\n",
       "    .dataframe tbody tr th {\n",
       "        vertical-align: top;\n",
       "    }\n",
       "\n",
       "    .dataframe thead th {\n",
       "        text-align: right;\n",
       "    }\n",
       "</style>\n",
       "<table border=\"1\" class=\"dataframe\">\n",
       "  <thead>\n",
       "    <tr style=\"text-align: right;\">\n",
       "      <th></th>\n",
       "      <th>HINDUNILVR.NS</th>\n",
       "      <th>INFY.NS</th>\n",
       "      <th>IRCTC.NS</th>\n",
       "      <th>RELIANCE.NS</th>\n",
       "      <th>SBIN.NS</th>\n",
       "      <th>TCS.NS</th>\n",
       "    </tr>\n",
       "    <tr>\n",
       "      <th>Date</th>\n",
       "      <th></th>\n",
       "      <th></th>\n",
       "      <th></th>\n",
       "      <th></th>\n",
       "      <th></th>\n",
       "      <th></th>\n",
       "    </tr>\n",
       "  </thead>\n",
       "  <tbody>\n",
       "    <tr>\n",
       "      <th>2022-09-19</th>\n",
       "      <td>2562.059814</td>\n",
       "      <td>1375.270264</td>\n",
       "      <td>692.000000</td>\n",
       "      <td>2502.449951</td>\n",
       "      <td>572.250000</td>\n",
       "      <td>3020.981689</td>\n",
       "    </tr>\n",
       "    <tr>\n",
       "      <th>2022-09-20</th>\n",
       "      <td>2566.331055</td>\n",
       "      <td>1373.539185</td>\n",
       "      <td>706.150024</td>\n",
       "      <td>2502.850098</td>\n",
       "      <td>574.049988</td>\n",
       "      <td>3032.451904</td>\n",
       "    </tr>\n",
       "    <tr>\n",
       "      <th>2022-09-21</th>\n",
       "      <td>2606.114258</td>\n",
       "      <td>1362.361328</td>\n",
       "      <td>700.349976</td>\n",
       "      <td>2509.750000</td>\n",
       "      <td>569.700012</td>\n",
       "      <td>2993.452881</td>\n",
       "    </tr>\n",
       "  </tbody>\n",
       "</table>\n",
       "</div>"
      ],
      "text/plain": [
       "            HINDUNILVR.NS      INFY.NS    IRCTC.NS  RELIANCE.NS     SBIN.NS  \\\n",
       "Date                                                                          \n",
       "2022-09-19    2562.059814  1375.270264  692.000000  2502.449951  572.250000   \n",
       "2022-09-20    2566.331055  1373.539185  706.150024  2502.850098  574.049988   \n",
       "2022-09-21    2606.114258  1362.361328  700.349976  2509.750000  569.700012   \n",
       "\n",
       "                 TCS.NS  \n",
       "Date                     \n",
       "2022-09-19  3020.981689  \n",
       "2022-09-20  3032.451904  \n",
       "2022-09-21  2993.452881  "
      ]
     },
     "execution_count": 71,
     "metadata": {},
     "output_type": "execute_result"
    }
   ],
   "source": [
    "data_1.tail(3)"
   ]
  },
  {
   "cell_type": "code",
   "execution_count": null,
   "id": "d0c7d3d4",
   "metadata": {},
   "outputs": [],
   "source": []
  },
  {
   "cell_type": "code",
   "execution_count": 60,
   "id": "4d5877e9",
   "metadata": {},
   "outputs": [],
   "source": [
    "from pypfopt.efficient_frontier import EfficientFrontier\n",
    "from pypfopt import risk_models\n",
    "from pypfopt import expected_returns"
   ]
  },
  {
   "cell_type": "code",
   "execution_count": 61,
   "id": "1c8f620d",
   "metadata": {},
   "outputs": [
    {
     "data": {
      "text/plain": [
       "<AxesSubplot: xlabel='Date', ylabel='Price in Rs'>"
      ]
     },
     "execution_count": 61,
     "metadata": {},
     "output_type": "execute_result"
    },
    {
     "data": {
      "image/png": "[encoded data removed]",
      "text/plain": [
       "<Figure size 1000x500 with 1 Axes>"
      ]
     },
     "metadata": {},
     "output_type": "display_data"
    }
   ],
   "source": [
    "data_1.rolling(63).mean().plot(figsize=(10, 5), ylabel='Price in Rs', fontsize=13)"
   ]
  },
  {
   "cell_type": "code",
   "execution_count": 47,
   "id": "2fab9ac6",
   "metadata": {},
   "outputs": [],
   "source": [
    "#calculate the expected ananullized return and annulized simple covariance matrix of the dailyasset return"
   ]
  },
  {
   "cell_type": "code",
   "execution_count": 62,
   "id": "834a122b",
   "metadata": {},
   "outputs": [],
   "source": [
    "mu = expected_returns.mean_historical_return(data_1)\n",
    "S = risk_models.sample_cov(data_1)"
   ]
  },
  {
   "cell_type": "code",
   "execution_count": 81,
   "id": "1825d077",
   "metadata": {},
   "outputs": [
    {
     "data": {
      "text/plain": [
       "array([0.66401449, 0.85657379, 0.5755675 , 0.97340046, 0.60970935,\n",
       "       0.20865703])"
      ]
     },
     "execution_count": 81,
     "metadata": {},
     "output_type": "execute_result"
    }
   ],
   "source": [
    "#optimize the maximum sharp ratio\n",
    "arr = np.random.random(6)\n",
    "arr\n"
   ]
  },
  {
   "cell_type": "code",
   "execution_count": 82,
   "id": "0da9ccfc",
   "metadata": {},
   "outputs": [
    {
     "data": {
      "text/plain": [
       "3.8879226137482394"
      ]
     },
     "execution_count": 82,
     "metadata": {},
     "output_type": "execute_result"
    }
   ],
   "source": [
    "arr[0] + arr[1]+arr[2]+arr[3]+arr[4]+arr[5]"
   ]
  },
  {
   "cell_type": "code",
   "execution_count": 64,
   "id": "75dccad4",
   "metadata": {},
   "outputs": [
    {
     "name": "stdout",
     "output_type": "stream",
     "text": [
      "Expected annual return: 47.3%\n",
      "Annual volatility: 31.6%\n",
      "Sharpe Ratio: 1.43\n"
     ]
    },
    {
     "data": {
      "text/plain": [
       "(0.4725126933887227, 0.31587092063163474, 1.4325873761467207)"
      ]
     },
     "execution_count": 64,
     "metadata": {},
     "output_type": "execute_result"
    }
   ],
   "source": [
    "ef = EfficientFrontier(mu, S)\n",
    "weights = ef.max_sharpe()\n",
    "cleaned_weights = ef.clean_weights()\n",
    "ef.portfolio_performance(verbose=True)"
   ]
  },
  {
   "cell_type": "code",
   "execution_count": 65,
   "id": "3e4316c1",
   "metadata": {},
   "outputs": [],
   "source": [
    "from pypfopt.discrete_allocation import DiscreteAllocation,get_latest_prices"
   ]
  },
  {
   "cell_type": "code",
   "execution_count": 66,
   "id": "94ac220d",
   "metadata": {},
   "outputs": [],
   "source": [
    "portfolio_value=80000"
   ]
  },
  {
   "cell_type": "code",
   "execution_count": 67,
   "id": "9efb8823",
   "metadata": {},
   "outputs": [],
   "source": [
    "total_portfolio_value=portfolio_value"
   ]
  },
  {
   "cell_type": "code",
   "execution_count": 68,
   "id": "fbba305e",
   "metadata": {},
   "outputs": [],
   "source": [
    "latest_prices=get_latest_prices(data_1)"
   ]
  },
  {
   "cell_type": "code",
   "execution_count": 69,
   "id": "e7fcd35a",
   "metadata": {},
   "outputs": [
    {
     "name": "stdout",
     "output_type": "stream",
     "text": [
      "Discrete allocation: {'IRCTC.NS': 61, 'INFY.NS': 25, 'HINDUNILVR.NS': 1}\n",
      "Funds remaining: Rs.613.50\n"
     ]
    }
   ],
   "source": [
    "latest_prices = get_latest_prices(data_1)\n",
    "\n",
    "da = DiscreteAllocation(cleaned_weights, latest_prices, total_portfolio_value=80000)\n",
    "allocation, leftover = da.greedy_portfolio()\n",
    "print(\"Discrete allocation:\", allocation)\n",
    "print(\"Funds remaining: Rs.{:.2f}\".format(leftover))"
   ]
  },
  {
   "cell_type": "code",
   "execution_count": 76,
   "id": "bb46d9dc",
   "metadata": {},
   "outputs": [
    {
     "name": "stdout",
     "output_type": "stream",
     "text": [
      "These are the  weights:  OrderedDict([('HINDUNILVR.NS', 0.0208171253000581), ('INFY.NS', 0.4194579546241728), ('IRCTC.NS', 0.5417208393634377), ('RELIANCE.NS', 0.0180040807123312), ('SBIN.NS', 0.0), ('TCS.NS', 0.0)])\n",
      "These are the cleaned weights:  OrderedDict([('HINDUNILVR.NS', 0.02082), ('INFY.NS', 0.41946), ('IRCTC.NS', 0.54172), ('RELIANCE.NS', 0.018), ('SBIN.NS', 0.0), ('TCS.NS', 0.0)])\n",
      "Expected annual return: 47.3%\n",
      "Annual volatility: 31.6%\n",
      "Sharpe Ratio: 1.43\n"
     ]
    },
    {
     "data": {
      "text/plain": [
       "(0.4725126933887227, 0.31587092063163474, 1.4325873761467207)"
      ]
     },
     "execution_count": 76,
     "metadata": {},
     "output_type": "execute_result"
    }
   ],
   "source": [
    "# Calculate expected returns and sample covariance\n",
    "mu = expected_returns.mean_historical_return(data_1)\n",
    "S = risk_models.sample_cov(data_1)\n",
    "\n",
    "# Optimize for maximal Sharpe ratio\n",
    "ef = EfficientFrontier(mu, S)\n",
    "weights = ef.max_sharpe()\n",
    "print(\"These are the  weights: \", weights)\n",
    "cleaned_weights = ef.clean_weights()\n",
    "print(\"These are the cleaned weights: \", cleaned_weights)\n",
    "ef.portfolio_performance(verbose=True)"
   ]
  },
  {
   "cell_type": "code",
   "execution_count": 75,
   "id": "8d3b8a42",
   "metadata": {},
   "outputs": [
    {
     "name": "stdout",
     "output_type": "stream",
     "text": [
      "Discrete allocation: {'IRCTC.NS': 61, 'INFY.NS': 25, 'HINDUNILVR.NS': 1}\n",
      "Funds remaining: Rs.613.50\n"
     ]
    }
   ],
   "source": [
    "latest_prices = get_latest_prices(data_1)\n",
    "\n",
    "da = DiscreteAllocation(cleaned_weights, latest_prices, total_portfolio_value=80000)\n",
    "allocation, leftover = da.greedy_portfolio()\n",
    "print(\"Discrete allocation:\", allocation)\n",
    "print(\"Funds remaining: Rs.{:.2f}\".format(leftover))"
   ]
  },
  {
   "cell_type": "code",
   "execution_count": 79,
   "id": "ad9615b2",
   "metadata": {},
   "outputs": [
    {
     "name": "stdout",
     "output_type": "stream",
     "text": [
      "These are the raw weights:  OrderedDict([('HINDUNILVR.NS', 0.0208171253000581), ('INFY.NS', 0.4194579546241728), ('IRCTC.NS', 0.5417208393634377), ('RELIANCE.NS', 0.0180040807123312), ('SBIN.NS', 0.0), ('TCS.NS', 0.0)])\n",
      "These are the cleaned weights:  OrderedDict([('HINDUNILVR.NS', 0.0), ('INFY.NS', 0.43863), ('IRCTC.NS', 0.55639), ('RELIANCE.NS', 0.00498), ('SBIN.NS', 0.0), ('TCS.NS', 0.0)])\n",
      "Expected annual return: 14.9%\n",
      "Annual volatility: 32.2%\n",
      "Sharpe Ratio: 0.40\n"
     ]
    },
    {
     "data": {
      "text/plain": [
       "(0.14888998286526714, 0.3223289437295328, 0.39987095596794786)"
      ]
     },
     "execution_count": 79,
     "metadata": {},
     "output_type": "execute_result"
    }
   ],
   "source": [
    "# Calculate expected returns and sample covariance\n",
    "mu = expected_returns.mean_historical_return(data_1, frequency=90)\n",
    "S = risk_models.sample_cov(data_1)\n",
    "\n",
    "# Optimize for maximal Sharpe ratio\n",
    "ef = EfficientFrontier(mu, S)\n",
    "eights = ef.max_sharpe()\n",
    "print(\"These are the raw weights: \", weights)\n",
    "cleaned_weights = ef.clean_weights()\n",
    "print(\"These are the cleaned weights: \", cleaned_weights)\n",
    "ef.portfolio_performance(verbose=True)"
   ]
  },
  {
   "cell_type": "code",
   "execution_count": null,
   "id": "9a56f086",
   "metadata": {},
   "outputs": [],
   "source": []
  }
 ],
 "metadata": {
  "kernelspec": {
   "display_name": "Python 3 (ipykernel)",
   "language": "python",
   "name": "python3"
  },
  "language_info": {
   "codemirror_mode": {
    "name": "ipython",
    "version": 3
   },
   "file_extension": ".py",
   "mimetype": "text/x-python",
   "name": "python",
   "nbconvert_exporter": "python",
   "pygments_lexer": "ipython3",
   "version": "3.10.12"
  }
 },
 "nbformat": 4,
 "nbformat_minor": 5
}
